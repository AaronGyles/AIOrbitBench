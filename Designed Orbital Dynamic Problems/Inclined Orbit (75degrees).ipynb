{
 "cells": [
  {
   "cell_type": "code",
   "id": "initial_id",
   "metadata": {
    "collapsed": true
   },
   "source": [
    "import numpy as np\n",
    "import rebound  \n",
    "import csv\n",
    "\n",
    "# Start REBOUND simulation\n",
    "sim = rebound.Simulation()\n",
    "\n",
    "# Use the IAS15 integrator which is suitable for this type of simulation\n",
    "sim.integrator = 'ias15'\n",
    "\n",
    "# Set units for the simulation (years, astronomical units, solar masses)\n",
    "sim.units = ('yr', 'AU', 'Msun')\n",
    "\n",
    "# Earth Mass in Solar Units\n",
    "m_earth = 0.0000030034146856628\n",
    "\n",
    "# Create particle environment\n",
    "sim.add(hash=\"Star\", m=1)  # Central Star\n",
    "sim.add(hash=\"Terrestrial Planet\", m=0.8*m_earth, a=0.8, e=0.02, inc=0)  # Terrestrial Planet\n",
    "sim.add(hash=\"Inclined Planet\", m=1.6*m_earth, a=1.2, e=0.01, inc=np.radians(75))  # Inclined Planet with 75 degree inclination\n",
    "sim.add(hash=\"Gas Giant\", m=80*m_earth, a=9.5, e=0.05, inc=0)  # Gas Giant\n",
    "\n",
    "# Dictionary to store measured quantities\n",
    "quantities = {'Terrestrial Planet Inclination': [], 'Terrestrial Planet Semi-Major Axis': [],\n",
    "              'Inclined Planet Inclination': [], 'Inclined Planet Semi-Major Axis': [],\n",
    "              'Gas Giant Inclination': [], 'Gas Giant Semi-Major Axis': []}\n",
    "\n",
    "# Time array to store the simulation time steps\n",
    "time = []\n",
    "\n",
    "# Collect data values while integrating the simulation for 20 periods of the Inclined Planet\n",
    "while sim.t <= 20 * sim.particles[2].P:  # sim.particles[2] is the Inclined Planet\n",
    "\n",
    "    # Measure inclination and semi-major axis for each planet\n",
    "    for i, planet_hash in enumerate(['Terrestrial Planet', 'Inclined Planet', 'Gas Giant']):\n",
    "        orbit = sim.particles[i + 1].orbit(primary=sim.particles[0])  # Calculate orbit relative to the star\n",
    "        quantities[planet_hash + ' Inclination'].append(orbit.inc)\n",
    "        quantities[planet_hash + ' Semi-Major Axis'].append(orbit.a)\n",
    "\n",
    "    # Record current simulation time\n",
    "    time.append(sim.t)\n",
    "    \n",
    "    # Integrate the simulation forward by one time step (sim.dt)\n",
    "    sim.integrate(sim.t + sim.dt, exact_finish_time=False)\n",
    "\n",
    "    # Move the simulation to the center of mass frame\n",
    "    sim.move_to_com()\n",
    "        \n",
    "\n",
    "# Save the time data to a CSV file\n",
    "with open('Inclined_Orbit_Data(75degrees_time).csv', 'w', newline='') as csvfile:\n",
    "    w = csv.writer(csvfile)\n",
    "    w.writerow(time)\n",
    "\n",
    "# Save the measured quantities to a separate CSV file\n",
    "with open(\"Inclined_Orbit_Data(75degrees_quantities).csv\", \"w\", newline=\"\") as f:\n",
    "    w = csv.DictWriter(f, quantities.keys())\n",
    "    w.writeheader()\n",
    "    w.writerow(quantities)\n"
   ],
   "outputs": [],
   "execution_count": null
  }
 ],
 "metadata": {
  "kernelspec": {
   "display_name": "Python 3",
   "language": "python",
   "name": "python3"
  },
  "language_info": {
   "codemirror_mode": {
    "name": "ipython",
    "version": 2
   },
   "file_extension": ".py",
   "mimetype": "text/x-python",
   "name": "python",
   "nbconvert_exporter": "python",
   "pygments_lexer": "ipython2",
   "version": "2.7.6"
  }
 },
 "nbformat": 4,
 "nbformat_minor": 5
}
